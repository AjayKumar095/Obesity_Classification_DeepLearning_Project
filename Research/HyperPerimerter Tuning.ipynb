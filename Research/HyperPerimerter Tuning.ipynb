{
 "cells": [
  {
   "cell_type": "markdown",
   "metadata": {},
   "source": [
    "# HyperPerimeter Tuning for the above model...\n",
    "## pip install keras-tuner"
   ]
  },
  {
   "cell_type": "code",
   "execution_count": 1,
   "metadata": {},
   "outputs": [],
   "source": [
    "from operator import imod\n",
    "from keras.src.models import Sequential \n",
    "from keras.src.layers import Dense, Dropout, Input\n",
    "from keras_tuner import RandomSearch \n",
    "from keras.src.optimizers import Adam\n",
    "from sklearn.preprocessing import StandardScaler\n",
    "from sklearn.model_selection import train_test_split\n",
    "from keras.src.utils import to_categorical\n",
    "import pandas as pd "
   ]
  },
  {
   "cell_type": "code",
   "execution_count": null,
   "metadata": {},
   "outputs": [],
   "source": [
    "## Spliting data into train and test data\n",
    "\n",
    "df = pd.read_csv('../Data/Clean_Raw_Data')\n",
    "\n",
    "X=df.iloc[:,:-1]\n",
    "y=df['NObeyesdad']\n",
    "\n",
    "x_train_full,  x_test, y_train_full , y_test =train_test_split(X,y, test_size=0.2, random_state=42)\n",
    "\n",
    "x_train_hp, x_valid, y_train_hp, y_valid = train_test_split(x_train_full, y_train_full, random_state=42, test_size=0.2)\n"
   ]
  },
  {
   "cell_type": "code",
   "execution_count": null,
   "metadata": {},
   "outputs": [],
   "source": [
    "## Scaling the data by using StandardScaler\n",
    "\n",
    "hp_scaler = StandardScaler()\n",
    "\n",
    "x_train_scaled_hp = hp_scaler.fit_transform(x_train_hp)\n",
    "x_test_scaled_hp = hp_scaler.transform(x_valid)"
   ]
  },
  {
   "cell_type": "code",
   "execution_count": null,
   "metadata": {},
   "outputs": [],
   "source": [
    "x_train_scaled_hp.shape"
   ]
  },
  {
   "cell_type": "code",
   "execution_count": null,
   "metadata": {},
   "outputs": [],
   "source": [
    "## Converting  the target data into One-Hot vector\n",
    "\n",
    "y_train_hp_cat = to_categorical(y_train_hp)\n",
    "y_valid_cat = to_categorical(y_valid, 7)\n",
    "\n",
    "y_train_hp.shape"
   ]
  },
  {
   "cell_type": "code",
   "execution_count": null,
   "metadata": {},
   "outputs": [],
   "source": [
    "## Define the model-building function \n",
    "\n",
    "def build_model(hp):\n",
    "    \n",
    "    model = Sequential()\n",
    "    \n",
    "    # Input layer with tunable number of neurone\n",
    "    model.add(Input(shape=(x_train_scaled_hp.shape[1],)))\n",
    "    model.add(Dense(units=hp.Int('units_input', min_value=32, max_value=256, step=32),\n",
    "                    activation='relu'))\n",
    "    \n",
    "    # first hidden layer with tunable units and dropout\n",
    "    model.add(Dense(units=hp.Int('units_hidden1', min_value=64, max_value=256, step=32), activation='relu'))\n",
    "    model.add(Dropout(rate=hp.Float('dropout_hidden1', min_value=0.2, max_value=0.5, step=0.1)))\n",
    "    \n",
    "    # second hidden layer\n",
    "    model.add(Dense(units=hp.Int('unit_hidden2', min_value=32, max_value=128, step=32), activation='relu'))\n",
    "    model.add(Dropout(rate=hp.Float('unit_dropout2', min_value=0.2, max_value=0.5, step=0.1)))\n",
    "    \n",
    "    # third hidden layer \n",
    "    model.add(Dense(units=hp.Int('unit_hidden3', min_value=16, max_value=64, step=32), activation='relu'))\n",
    "    model.add(Dropout(rate=hp.Float('unit_dropout3', min_value=0.2, max_value=0.5, step=0.1)))\n",
    "    \n",
    "    # Output layer\n",
    "    model.add(Dense(y_train_hp.shape[1], activation='softmax'))\n",
    "    \n",
    "    # Compie the model with a tunable learning rate\n",
    "    model.compile(optimizer=Adam( learning_rate=hp.Choice('learning_rate', values=[1e-2, 1e-3, 1e-4, 1e-5])),\n",
    "                  loss='categorical_crossentropy', metrics=['accuracy'])\n",
    "    \n",
    "    return model"
   ]
  },
  {
   "cell_type": "code",
   "execution_count": null,
   "metadata": {},
   "outputs": [],
   "source": [
    "## Initialize the tuner \n",
    "\n",
    "tuner = RandomSearch(build_model,\n",
    "                     objective='val_accuracy',\n",
    "                     max_trials=5,\n",
    "                     executions_per_trial=3,\n",
    "                     directory='hyperparameter_tuning',\n",
    "                     project_name='Obesity Classification')"
   ]
  },
  {
   "cell_type": "code",
   "execution_count": null,
   "metadata": {},
   "outputs": [],
   "source": [
    "## Start the search using your training data and validation data.\n",
    "\n",
    "tuner.search(x_train_scaled_hp, y_train_hp_cat, epochs=10, validation_data=(x_valid, y_valid_cat))"
   ]
  }
 ],
 "metadata": {
  "kernelspec": {
   "display_name": "Obesity_venv",
   "language": "python",
   "name": "python3"
  },
  "language_info": {
   "codemirror_mode": {
    "name": "ipython",
    "version": 3
   },
   "file_extension": ".py",
   "mimetype": "text/x-python",
   "name": "python",
   "nbconvert_exporter": "python",
   "pygments_lexer": "ipython3",
   "version": "3.11.10"
  }
 },
 "nbformat": 4,
 "nbformat_minor": 2
}
