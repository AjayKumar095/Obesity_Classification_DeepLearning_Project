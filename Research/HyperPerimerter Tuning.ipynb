{
 "cells": [
  {
   "cell_type": "markdown",
   "metadata": {},
   "source": [
    "# HyperPerimeter Tuning for the above model...\n",
    "## pip install keras-tuner"
   ]
  },
  {
   "cell_type": "code",
   "execution_count": 1,
   "metadata": {},
   "outputs": [],
   "source": [
    "import sqlite3 as sql\n",
    "from keras.src.models import Sequential \n",
    "from keras.src.layers import Dense, Dropout, Input\n",
    "from keras_tuner import RandomSearch \n",
    "from sklearn.preprocessing import LabelEncoder\n",
    "from keras.src.optimizers import Adam\n",
    "from sklearn.preprocessing import StandardScaler\n",
    "from sklearn.model_selection import train_test_split\n",
    "from keras.src.utils import to_categorical\n",
    "import pandas as pd "
   ]
  },
  {
   "cell_type": "code",
   "execution_count": 4,
   "metadata": {},
   "outputs": [],
   "source": [
    "## Spliting data into train and test data\n",
    "\n",
    "## Read the raw data from sql table.\n",
    "\n",
    "conn = sql.connect('../DataBase/TrainingData.db')\n",
    "query=\"SELECT * FROM HealthData\"\n",
    "df = pd.read_sql_query(query, conn)\n",
    "\n",
    "## Selecting all columns which have type = object.\n",
    "cat_col=[col for col in df.columns if df[col].dtype == 'object']\n",
    "\n",
    "encoder=LabelEncoder()\n",
    "for col in cat_col:\n",
    "    \n",
    "    df[col]=encoder.fit_transform(df[col])\n",
    "\n",
    "X=df.iloc[:,:-1]\n",
    "y=df['NObeyesdad']\n",
    "\n",
    "x_train_full,  x_test, y_train_full , y_test =train_test_split(X,y, test_size=0.2, random_state=42)\n",
    "\n",
    "x_train_hp, x_valid, y_train_hp, y_valid = train_test_split(x_train_full, y_train_full, random_state=42, test_size=0.2)\n"
   ]
  },
  {
   "cell_type": "code",
   "execution_count": 5,
   "metadata": {},
   "outputs": [],
   "source": [
    "## Scaling the data by using StandardScaler\n",
    "\n",
    "hp_scaler = StandardScaler()\n",
    "\n",
    "x_train_scaled_hp = hp_scaler.fit_transform(x_train_hp)\n",
    "x_test_scaled_hp = hp_scaler.transform(x_valid)\n",
    "x_test_evlve= hp_scaler.transform(x_test)"
   ]
  },
  {
   "cell_type": "code",
   "execution_count": 6,
   "metadata": {},
   "outputs": [
    {
     "data": {
      "text/plain": [
       "(338, 16)"
      ]
     },
     "execution_count": 6,
     "metadata": {},
     "output_type": "execute_result"
    }
   ],
   "source": [
    "x_test_scaled_hp.shape"
   ]
  },
  {
   "cell_type": "code",
   "execution_count": 7,
   "metadata": {},
   "outputs": [
    {
     "data": {
      "text/plain": [
       "(338, 7)"
      ]
     },
     "execution_count": 7,
     "metadata": {},
     "output_type": "execute_result"
    }
   ],
   "source": [
    "## Converting  the target data into One-Hot vector\n",
    "\n",
    "y_train_hp_cat = to_categorical(y_train_hp)\n",
    "y_valid_cat = to_categorical(y_valid, 7)\n",
    "y_test_hp = to_categorical(y_test,7)\n",
    "y_valid_cat.shape"
   ]
  },
  {
   "cell_type": "code",
   "execution_count": 11,
   "metadata": {},
   "outputs": [],
   "source": [
    "## Define the model-building function \n",
    "\n",
    "def build_model(hp):\n",
    "    \n",
    "    model = Sequential()\n",
    "    \n",
    "    # Input layer with tunable number of neurone\n",
    "    model.add(Input(shape=(x_train_scaled_hp.shape[1],)))\n",
    "    model.add(Dense(units=hp.Int('units_input', min_value=32, max_value=256, step=32),\n",
    "                    activation='relu'))\n",
    "    \n",
    "    # first hidden layer with tunable units and dropout\n",
    "    model.add(Dense(units=hp.Int('units_hidden1', min_value=64, max_value=256, step=32), activation='relu'))\n",
    "    model.add(Dropout(rate=hp.Float('dropout_hidden1', min_value=0.2, max_value=0.5, step=0.1)))\n",
    "    \n",
    "    # second hidden layer\n",
    "    model.add(Dense(units=hp.Int('unit_hidden2', min_value=32, max_value=128, step=32), activation='relu'))\n",
    "    model.add(Dropout(rate=hp.Float('unit_dropout2', min_value=0.2, max_value=0.5, step=0.1)))\n",
    "    \n",
    "    # third hidden layer \n",
    "    model.add(Dense(units=hp.Int('unit_hidden3', min_value=16, max_value=64, step=32), activation='relu'))\n",
    "    model.add(Dropout(rate=hp.Float('unit_dropout3', min_value=0.2, max_value=0.5, step=0.1)))\n",
    "    \n",
    "    # Output layer\n",
    "    model.add(Dense(y_train_hp_cat.shape[1], activation='softmax'))\n",
    "    \n",
    "    # Compie the model with a tunable learning rate\n",
    "    model.compile(optimizer=Adam( learning_rate=hp.Choice('learning_rate', values=[1e-2, 1e-3, 1e-4, 1e-5])),\n",
    "                  loss='categorical_crossentropy', metrics=['accuracy'])\n",
    "    \n",
    "    return model"
   ]
  },
  {
   "cell_type": "code",
   "execution_count": 20,
   "metadata": {},
   "outputs": [],
   "source": [
    "## Initialize the tuner \n",
    "\n",
    "tuner = RandomSearch(build_model,\n",
    "                     objective='val_accuracy',\n",
    "                     max_trials=5,\n",
    "                     executions_per_trial=3,\n",
    "                     directory='hyperparameter_tuning',\n",
    "                     project_name='Obesity Classification')"
   ]
  },
  {
   "cell_type": "code",
   "execution_count": 21,
   "metadata": {},
   "outputs": [
    {
     "name": "stdout",
     "output_type": "stream",
     "text": [
      "Trial 5 Complete [00h 03m 02s]\n",
      "val_accuracy: 0.9309664567311605\n",
      "\n",
      "Best val_accuracy So Far: 0.9428008000055949\n",
      "Total elapsed time: 00h 07m 42s\n"
     ]
    }
   ],
   "source": [
    "## Start the search using your training data and validation data.\n",
    "\n",
    "tuner.search(x_train_scaled_hp, y_train_hp_cat, epochs=100, validation_data=(x_test_scaled_hp, y_valid_cat))"
   ]
  },
  {
   "cell_type": "code",
   "execution_count": 22,
   "metadata": {},
   "outputs": [
    {
     "name": "stdout",
     "output_type": "stream",
     "text": [
      "Best hyperparameters: {'units_input': 64, 'units_hidden1': 128, 'dropout_hidden1': 0.4, 'unit_hidden2': 32, 'unit_dropout2': 0.30000000000000004, 'unit_hidden3': 48, 'unit_dropout3': 0.30000000000000004, 'learning_rate': 0.01}\n"
     ]
    },
    {
     "name": "stderr",
     "output_type": "stream",
     "text": [
      "d:\\Anaconda3\\envs\\Obesity_venv\\Lib\\site-packages\\keras\\src\\saving\\saving_lib.py:719: UserWarning: Skipping variable loading for optimizer 'adam', because it has 2 variables whereas the saved optimizer has 22 variables. \n",
      "  saveable.load_own_variables(weights_store.get(inner_path))\n"
     ]
    }
   ],
   "source": [
    "## Selecting the best model.\n",
    "\n",
    "best_model = tuner.get_best_models(num_models=1)[0]\n",
    "best_hyperparameters = tuner.get_best_hyperparameters(num_trials=1)[0]\n",
    "\n",
    "print(\"Best hyperparameters:\", best_hyperparameters.values)\n"
   ]
  },
  {
   "cell_type": "code",
   "execution_count": 25,
   "metadata": {},
   "outputs": [
    {
     "name": "stdout",
     "output_type": "stream",
     "text": [
      "\u001b[1m14/14\u001b[0m \u001b[32m━━━━━━━━━━━━━━━━━━━━\u001b[0m\u001b[37m\u001b[0m \u001b[1m1s\u001b[0m 18ms/step - accuracy: 0.9369 - loss: 0.3870\n",
      "Test accuracy of the best model: 0.93\n"
     ]
    }
   ],
   "source": [
    "## evaluate on test data\n",
    "test_loss, test_accuracy = best_model.evaluate(x_test_evlve, y_test_hp)\n",
    "print(f\"Test accuracy of the best model: {test_accuracy:.2f}\")\n"
   ]
  },
  {
   "cell_type": "markdown",
   "metadata": {},
   "source": [
    "<table border=\"1\">\n",
    "  <thead>\n",
    "    <tr>\n",
    "      <th>Parameter</th>\n",
    "      <th>Value</th>\n",
    "    </tr>\n",
    "  </thead>\n",
    "  <tbody>\n",
    "    <tr>\n",
    "      <td>units_input</td>\n",
    "      <td>64</td>\n",
    "    </tr>\n",
    "    <tr>\n",
    "      <td>units_hidden1</td>\n",
    "      <td>128</td>\n",
    "    </tr>\n",
    "    <tr>\n",
    "      <td>dropout_hidden1</td>\n",
    "      <td>0.4</td>\n",
    "    </tr>\n",
    "    <tr>\n",
    "      <td>unit_hidden2</td>\n",
    "      <td>32</td>\n",
    "    </tr>\n",
    "    <tr>\n",
    "      <td>unit_dropout2</td>\n",
    "      <td>0.3</td>\n",
    "    </tr>\n",
    "    <tr>\n",
    "      <td>unit_hidden3</td>\n",
    "      <td>48</td>\n",
    "    </tr>\n",
    "    <tr>\n",
    "      <td>unit_dropout3</td>\n",
    "      <td>0.3</td>\n",
    "    </tr>\n",
    "    <tr>\n",
    "      <td>learning_rate</td>\n",
    "      <td>0.01</td>\n",
    "    </tr>\n",
    "  </tbody>\n",
    "</table>\n"
   ]
  }
 ],
 "metadata": {
  "kernelspec": {
   "display_name": "Obesity_venv",
   "language": "python",
   "name": "python3"
  },
  "language_info": {
   "codemirror_mode": {
    "name": "ipython",
    "version": 3
   },
   "file_extension": ".py",
   "mimetype": "text/x-python",
   "name": "python",
   "nbconvert_exporter": "python",
   "pygments_lexer": "ipython3",
   "version": "3.11.10"
  }
 },
 "nbformat": 4,
 "nbformat_minor": 2
}
