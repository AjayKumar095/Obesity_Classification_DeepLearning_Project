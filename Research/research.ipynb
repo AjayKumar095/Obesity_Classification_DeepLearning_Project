{
 "cells": [
  {
   "cell_type": "markdown",
   "metadata": {},
   "source": [
    "<h1 style='color: green;'><center>Obesity Classification DataSet</center></h1>\n",
    "\n",
    "<em><p>The Obesity Classification project uses deep learning to identify obesity levels based on input features such as Gender, Age, Weight, Height, and lifestyle habits. By leveraging neural networks, the model predicts obesity categories and provides personalized healthy tips like balanced diet, regular exercise, and portion control to reduce obesity.</p></em>\n",
    "\n",
    "<h4>Here are brief explanations for each feature in the obesity classification model dataset:</h4>\n",
    "\n",
    "- Gender: The biological sex of the individual (Male/Female).\n",
    "- Age: The age of the individual in years.\n",
    "- Height: The height of the individual in meters.\n",
    "- Weight: The weight of the individual in kilograms.\n",
    "- family_history_with_overweight: Indicates if the individual has a family history of overweight issues (Yes/No).\n",
    "- FAVC: Frequency of high-calorie food consumption (Yes/No).\n",
    "- FCVC: Frequency of vegetable consumption on a scale.\n",
    "- NCP: Number of main meals consumed per day.\n",
    "- CAEC: Frequency of food consumption between meals.\n",
    "- SMOKE: Indicates if the individual smokes (Yes/No).\n",
    "- CH2O: Daily water consumption in liters.\n",
    "- SCC: Frequency of calorie consumption monitoring (Yes/No).\n",
    "- FAF: Frequency of physical activity per week.\n",
    "- TUE: Time spent using electronic devices daily.\n",
    "- CALC: Frequency of alcohol consumption.\n",
    "- MTRANS: Primary mode of transportation (e.g., Walking, Public Transport).\n",
    "- NObeyesdad: Obesity classification label of the individual."
   ]
  },
  {
   "cell_type": "code",
   "execution_count": 1,
   "metadata": {},
   "outputs": [],
   "source": [
    "## Analyzing Dataset \n",
    "\n",
    "## Importing some important library\n",
    "\n",
    "import sqlite3 as sql \n",
    "import pandas as pd \n",
    "import matplotlib.pyplot as plt \n",
    "import seaborn as sns\n",
    "import warnings \n",
    "warnings.filterwarnings('ignore')"
   ]
  },
  {
   "cell_type": "code",
   "execution_count": 2,
   "metadata": {},
   "outputs": [],
   "source": [
    "## connecting to database\n",
    "\n",
    "conn=sql.connect('../DataBase/TrainingData.db')\n",
    "\n",
    "query = \"SELECT * FROM HealthData\"\n",
    "df=pd.read_sql_query(query, conn)\n"
   ]
  },
  {
   "cell_type": "code",
   "execution_count": 3,
   "metadata": {},
   "outputs": [
    {
     "data": {
      "text/plain": [
       "Index(['Gender', 'Age', 'Height', 'Weight', 'family_history_with_overweight',\n",
       "       'FAVC', 'FCVC', 'NCP', 'CAEC', 'SMOKE', 'CH2O', 'SCC', 'FAF', 'TUE',\n",
       "       'CALC', 'MTRANS', 'NObeyesdad'],\n",
       "      dtype='object')"
      ]
     },
     "execution_count": 3,
     "metadata": {},
     "output_type": "execute_result"
    }
   ],
   "source": [
    "df.columns"
   ]
  },
  {
   "cell_type": "code",
   "execution_count": null,
   "metadata": {},
   "outputs": [
    {
     "name": "stdout",
     "output_type": "stream",
     "text": [
      "<class 'pandas.core.frame.DataFrame'>\n",
      "RangeIndex: 2111 entries, 0 to 2110\n",
      "Data columns (total 17 columns):\n",
      " #   Column                          Non-Null Count  Dtype  \n",
      "---  ------                          --------------  -----  \n",
      " 0   Gender                          2111 non-null   object \n",
      " 1   Age                             2111 non-null   float64\n",
      " 2   Height                          2111 non-null   float64\n",
      " 3   Weight                          2111 non-null   float64\n",
      " 4   family_history_with_overweight  2111 non-null   object \n",
      " 5   FAVC                            2111 non-null   object \n",
      " 6   FCVC                            2111 non-null   float64\n",
      " 7   NCP                             2111 non-null   float64\n",
      " 8   CAEC                            2111 non-null   object \n",
      " 9   SMOKE                           2111 non-null   object \n",
      " 10  CH2O                            2111 non-null   float64\n",
      " 11  SCC                             2111 non-null   object \n",
      " 12  FAF                             2111 non-null   float64\n",
      " 13  TUE                             2111 non-null   float64\n",
      " 14  CALC                            2111 non-null   object \n",
      " 15  MTRANS                          2111 non-null   object \n",
      " 16  NObeyesdad                      2111 non-null   object \n",
      "dtypes: float64(8), object(9)\n",
      "memory usage: 280.5+ KB\n"
     ]
    }
   ],
   "source": [
    "df.info()\n"
   ]
  },
  {
   "cell_type": "code",
   "execution_count": 6,
   "metadata": {},
   "outputs": [
    {
     "data": {
      "text/plain": [
       "array(['Normal_Weight', 'Overweight_Level_I', 'Overweight_Level_II',\n",
       "       'Obesity_Type_I', 'Insufficient_Weight', 'Obesity_Type_II',\n",
       "       'Obesity_Type_III'], dtype=object)"
      ]
     },
     "execution_count": 6,
     "metadata": {},
     "output_type": "execute_result"
    }
   ],
   "source": [
    "## Since the target varibale have 7 classes, so its is multi-class classification problem.\n",
    "df['NObeyesdad'].unique()"
   ]
  },
  {
   "cell_type": "code",
   "execution_count": null,
   "metadata": {},
   "outputs": [],
   "source": [
    "## ranking output feature to convert into numeric values.\n",
    "\n",
    "weight_category_rank = {\n",
    "    'Normal_Weight': 1,\n",
    "    'Insufficient_Weight': 2,\n",
    "    'Overweight_Level_I': 3,\n",
    "    'Overweight_Level_II': 4,\n",
    "    'Obesity_Type_I': 5,\n",
    "    'Obesity_Type_II': 6,\n",
    "    'Obesity_Type_III': 7\n",
    "}"
   ]
  },
  {
   "cell_type": "code",
   "execution_count": 14,
   "metadata": {},
   "outputs": [
    {
     "name": "stdout",
     "output_type": "stream",
     "text": [
      "Gender\n",
      "Unique values: - ['Female' 'Male']\n",
      "\n",
      "\n",
      "family_history_with_overweight\n",
      "Unique values: - ['yes' 'no']\n",
      "\n",
      "\n",
      "FAVC\n",
      "Unique values: - ['no' 'yes']\n",
      "\n",
      "\n",
      "CAEC\n",
      "Unique values: - ['Sometimes' 'Frequently' 'Always' 'no']\n",
      "\n",
      "\n",
      "SMOKE\n",
      "Unique values: - ['no' 'yes']\n",
      "\n",
      "\n",
      "SCC\n",
      "Unique values: - ['no' 'yes']\n",
      "\n",
      "\n",
      "CALC\n",
      "Unique values: - ['no' 'Sometimes' 'Frequently' 'Always']\n",
      "\n",
      "\n",
      "MTRANS\n",
      "Unique values: - ['Public_Transportation' 'Walking' 'Automobile' 'Motorbike' 'Bike']\n",
      "\n",
      "\n",
      "NObeyesdad\n",
      "Unique values: - ['Normal_Weight' 'Overweight_Level_I' 'Overweight_Level_II'\n",
      " 'Obesity_Type_I' 'Insufficient_Weight' 'Obesity_Type_II'\n",
      " 'Obesity_Type_III']\n",
      "\n",
      "\n"
     ]
    }
   ],
   "source": [
    "cat_col = [col for col in df.columns if df[col].dtype == 'object']\n",
    "\n",
    "for col in cat_col:\n",
    "    print(col)\n",
    "    print('Unique values: -',df[col].unique())\n",
    "    print('\\n')"
   ]
  },
  {
   "cell_type": "markdown",
   "metadata": {},
   "source": [
    "- As we can see that our data set have three type of data, numerical (e.g; float or int), nominal and ordinal features.\n",
    "- So we try to transform the above data set. For ordinal feature we use OrdinalEncoding and for nominal features we use One-Hot Encoder and for traget variable we use LabelEncoder.\n",
    "- For any missing values, we use SimpleImputer, median for numerical and most frequent for categorical features."
   ]
  },
  {
   "cell_type": "code",
   "execution_count": 16,
   "metadata": {},
   "outputs": [],
   "source": [
    "## Defining the numerical, ordinal and nominal features.\n",
    "\n",
    "num_cols = [col for col in df.columns if df[col].dtype != 'object']\n",
    "\n",
    "nominal_cols = ['Gender', 'family_history_with_overweight', 'FAVC', 'SMOKE', 'SCC', 'MTRANS']\n",
    "\n",
    "ordinal_cols = [ 'CALC', 'CAEC']\n",
    "\n",
    "target_col = ['NObeyesdad']"
   ]
  }
 ],
 "metadata": {
  "kernelspec": {
   "display_name": "Obesity_venv",
   "language": "python",
   "name": "python3"
  },
  "language_info": {
   "codemirror_mode": {
    "name": "ipython",
    "version": 3
   },
   "file_extension": ".py",
   "mimetype": "text/x-python",
   "name": "python",
   "nbconvert_exporter": "python",
   "pygments_lexer": "ipython3",
   "version": "3.11.10"
  }
 },
 "nbformat": 4,
 "nbformat_minor": 2
}
