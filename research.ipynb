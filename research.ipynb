{
 "cells": [
  {
   "cell_type": "markdown",
   "metadata": {},
   "source": [
    "<h1 style='color: green;'><center>Obesity Classification DataSet</center></h1>\n",
    "\n",
    "<em><p>The Obesity Classification project uses deep learning to identify obesity levels based on input features such as Gender, Age, Weight, Height, and lifestyle habits. By leveraging neural networks, the model predicts obesity categories and provides personalized healthy tips like balanced diet, regular exercise, and portion control to reduce obesity.</p></em>\n",
    "\n",
    "<h4>Here are brief explanations for each feature in the obesity classification model dataset:</h4>\n",
    "\n",
    "- Gender: The biological sex of the individual (Male/Female).\n",
    "- Age: The age of the individual in years.\n",
    "- Height: The height of the individual in meters.\n",
    "- Weight: The weight of the individual in kilograms.\n",
    "- family_history_with_overweight: Indicates if the individual has a family history of overweight issues (Yes/No).\n",
    "- FAVC: Frequency of high-calorie food consumption (Yes/No).\n",
    "- FCVC: Frequency of vegetable consumption on a scale.\n",
    "- NCP: Number of main meals consumed per day.\n",
    "- CAEC: Frequency of food consumption between meals.\n",
    "- SMOKE: Indicates if the individual smokes (Yes/No).\n",
    "- CH2O: Daily water consumption in liters.\n",
    "- SCC: Frequency of calorie consumption monitoring (Yes/No).\n",
    "- FAF: Frequency of physical activity per week.\n",
    "- TUE: Time spent using electronic devices daily.\n",
    "- CALC: Frequency of alcohol consumption.\n",
    "- MTRANS: Primary mode of transportation (e.g., Walking, Public Transport).\n",
    "- NObeyesdad: Obesity classification label of the individual."
   ]
  },
  {
   "cell_type": "code",
   "execution_count": null,
   "metadata": {},
   "outputs": [],
   "source": [
    "## Analyzing Dataset \n",
    "\n",
    "## Importing some important library\n",
    "\n",
    "import pandas as pd \n",
    "import matplotlib.pyplot as plt \n",
    "import seaborn as sns\n",
    "import warnings \n",
    "warnings.filterwarnings('ignore')"
   ]
  }
 ],
 "metadata": {
  "kernelspec": {
   "display_name": ".venv",
   "language": "python",
   "name": "python3"
  },
  "language_info": {
   "name": "python",
   "version": "3.11.7"
  }
 },
 "nbformat": 4,
 "nbformat_minor": 2
}
